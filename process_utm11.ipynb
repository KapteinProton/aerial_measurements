{
 "cells": [
  {
   "cell_type": "code",
   "execution_count": 92,
   "metadata": {
    "collapsed": false
   },
   "outputs": [],
   "source": [
    "#import geopandas as gpd\n",
    "import pandas as pd\n",
    "import matplotlib.colors as mcolors\n",
    "import matplotlib.image as mpimg\n",
    "import matplotlib.pyplot as plt\n",
    "from mpl_toolkits.basemap import Basemap\n",
    "from math import radians, cos, sin, asin, sqrt\n",
    "import easygui\n",
    "import os\n",
    "from pyproj import Proj, transform\n",
    "import numpy as np"
   ]
  },
  {
   "cell_type": "code",
   "execution_count": 2,
   "metadata": {
    "collapsed": true
   },
   "outputs": [],
   "source": [
    "def make_colormap(seq):\n",
    "    \"\"\"Return a LinearSegmentedColormap\n",
    "    seq: a sequence of floats and RGB-tuples. The floats should be increasing\n",
    "    and in the interval (0,1).\n",
    "    \"\"\"\n",
    "    seq = [(None,) * 3, 0.0] + list(seq) + [1.0, (None,) * 3]\n",
    "    cdict = {'red': [], 'green': [], 'blue': []}\n",
    "    for i, item in enumerate(seq):\n",
    "        if isinstance(item, float):\n",
    "            r1, g1, b1 = seq[i - 1]\n",
    "            r2, g2, b2 = seq[i + 1]\n",
    "            cdict['red'].append([item, r1, r2])\n",
    "            cdict['green'].append([item, g1, g2])\n",
    "            cdict['blue'].append([item, b1, b2])\n",
    "    return mcolors.LinearSegmentedColormap('CustomMap', cdict)"
   ]
  },
  {
   "cell_type": "code",
   "execution_count": 21,
   "metadata": {
    "collapsed": true
   },
   "outputs": [],
   "source": [
    "def proj_utm11(lon,lat):\n",
    "    outProj = Proj(init='epsg:32611')\n",
    "    inProj = Proj(init='epsg:4326')\n",
    "    x2=[];y2=[]\n",
    "    for i in range(0,len(lon)):\n",
    "        x_tmp,y_tmp = transform(inProj,outProj,lon[i],lat[i])\n",
    "        x2.append(x_tmp)\n",
    "        y2.append(y_tmp)\n",
    "    return x2,y2"
   ]
  },
  {
   "cell_type": "code",
   "execution_count": 3,
   "metadata": {
    "collapsed": true
   },
   "outputs": [],
   "source": [
    "readfile = easygui.fileopenbox(default='/home/martin/nevada/Data/',filetypes=['*.csv'])"
   ]
  },
  {
   "cell_type": "code",
   "execution_count": 4,
   "metadata": {
    "collapsed": true
   },
   "outputs": [],
   "source": [
    "data_df=pd.read_csv(readfile,sep=',', skiprows=2)\n",
    "ch_00=data_df.columns.get_loc(\"Ch_00\")\n",
    "roi=[10,1022]"
   ]
  },
  {
   "cell_type": "code",
   "execution_count": 101,
   "metadata": {
    "collapsed": true
   },
   "outputs": [],
   "source": [
    "data_df['ch_sum']=data_df.ix[:,ch_00+roi[0]:ch_00+roi[1]].sum(axis=1)\n",
    "df1 = data_df.ix[:, ['Long','Lat','Alt[m]','ch_sum']]\n",
    "df1=df1[(df1.Lat !=0) & (df1.Long !=0)]"
   ]
  },
  {
   "cell_type": "code",
   "execution_count": 208,
   "metadata": {
    "collapsed": true
   },
   "outputs": [],
   "source": [
    "from osgeo import gdal\n",
    "geofile=easygui.fileopenbox(default='/home/martin/nevada/Data/Nevada',filetypes=['*.tif'])"
   ]
  },
  {
   "cell_type": "code",
   "execution_count": 209,
   "metadata": {
    "collapsed": true
   },
   "outputs": [],
   "source": [
    "ds = gdal.Open(geofile)\n",
    "r_width = ds.RasterXSize\n",
    "r_height = ds.RasterYSize\n",
    "gt = ds.GetGeoTransform()\n",
    "minx = gt[0]\n",
    "miny = gt[3] + r_width*gt[4] + r_height*gt[5] \n",
    "maxx = gt[0] + r_width*gt[1] + r_height*gt[2]\n",
    "maxy = gt[3] "
   ]
  },
  {
   "cell_type": "code",
   "execution_count": 71,
   "metadata": {
    "collapsed": false
   },
   "outputs": [],
   "source": [
    "lon,lat=df1.Long.tolist(),df1.Lat.tolist()"
   ]
  },
  {
   "cell_type": "code",
   "execution_count": 210,
   "metadata": {
    "collapsed": false
   },
   "outputs": [
    {
     "name": "stdout",
     "output_type": "stream",
     "text": [
      "3480\n"
     ]
    }
   ],
   "source": [
    "print r_width"
   ]
  },
  {
   "cell_type": "code",
   "execution_count": 103,
   "metadata": {
    "collapsed": false
   },
   "outputs": [],
   "source": [
    "\n",
    "#x,y=proj_utm11(x_tmp[i],y_tmp[i])\n",
    "outProj = Proj(init='epsg:32611')\n",
    "inProj = Proj(init='epsg:4326')\n",
    "x2=[];y2=[]\n",
    "for i in range(len(lon)):\n",
    "    try:\n",
    "        x_tmp,y_tmp = transform(inProj,outProj,lon[i],lat[i])\n",
    "    except:\n",
    "        print i\n",
    "        \n",
    "    x2.append(x_tmp)\n",
    "    y2.append(y_tmp)\n",
    "#return x2,y2"
   ]
  },
  {
   "cell_type": "code",
   "execution_count": 104,
   "metadata": {
    "collapsed": false
   },
   "outputs": [],
   "source": [
    "df1['x']=x2\n",
    "df1['y']=y2"
   ]
  },
  {
   "cell_type": "code",
   "execution_count": null,
   "metadata": {
    "collapsed": true
   },
   "outputs": [],
   "source": []
  },
  {
   "cell_type": "code",
   "execution_count": 82,
   "metadata": {
    "collapsed": true
   },
   "outputs": [],
   "source": [
    "p_red=df1[(df1.x < maxx) & (df1.x > minx) & (df1.y > miny) & (df1.y < maxy)]\n",
    "x=p_red.x.tolist();y=p_red.y.tolist();z=p_red.ch_sum.tolist()"
   ]
  },
  {
   "cell_type": "code",
   "execution_count": 86,
   "metadata": {
    "collapsed": true
   },
   "outputs": [],
   "source": [
    "area=mpimg.imread(geofile)"
   ]
  },
  {
   "cell_type": "code",
   "execution_count": 88,
   "metadata": {
    "collapsed": false
   },
   "outputs": [],
   "source": [
    "plt.imshow(area)\n",
    "plt.plot(x,y,'.')\n",
    "plt.show()"
   ]
  },
  {
   "cell_type": "code",
   "execution_count": 81,
   "metadata": {
    "collapsed": false
   },
   "outputs": [
    {
     "data": {
      "text/plain": [
       "[]"
      ]
     },
     "execution_count": 81,
     "metadata": {},
     "output_type": "execute_result"
    }
   ],
   "source": [
    "px"
   ]
  },
  {
   "cell_type": "code",
   "execution_count": null,
   "metadata": {
    "collapsed": true
   },
   "outputs": [],
   "source": [
    "m = Basemap(resolution='i',\n",
    "projection='tmerc',width=,height=lat_0=,lon_0=)"
   ]
  },
  {
   "cell_type": "code",
   "execution_count": 93,
   "metadata": {
    "collapsed": false
   },
   "outputs": [],
   "source": [
    "band = ds.GetRasterBand(1) #bands start at one\n",
    "a = band.ReadAsArray().astype(np.float)"
   ]
  },
  {
   "cell_type": "code",
   "execution_count": 94,
   "metadata": {
    "collapsed": false
   },
   "outputs": [
    {
     "data": {
      "text/plain": [
       "<matplotlib.image.AxesImage at 0x7f4c6c18f590>"
      ]
     },
     "execution_count": 94,
     "metadata": {},
     "output_type": "execute_result"
    }
   ],
   "source": [
    "plt.imshow(a)"
   ]
  },
  {
   "cell_type": "code",
   "execution_count": 95,
   "metadata": {
    "collapsed": true
   },
   "outputs": [],
   "source": [
    "plt.show()"
   ]
  },
  {
   "cell_type": "code",
   "execution_count": 115,
   "metadata": {
    "collapsed": true
   },
   "outputs": [],
   "source": [
    "x_cen=minx+(maxx-minx)/2.\n",
    "y_cen=miny+(maxy-miny)/2."
   ]
  },
  {
   "cell_type": "code",
   "execution_count": 97,
   "metadata": {
    "collapsed": true
   },
   "outputs": [],
   "source": [
    "def proj_latlong(utm11x,utm11y):\n",
    "    inProj = Proj(init='epsg:32611')\n",
    "    outProj = Proj(init='epsg:4326')\n",
    "    x2,y2 = transform(inProj,outProj,utm11x,utm11y)\n",
    "    return x2,y2"
   ]
  },
  {
   "cell_type": "code",
   "execution_count": 116,
   "metadata": {
    "collapsed": true
   },
   "outputs": [],
   "source": [
    "lon_cen,lat_cen=proj_latlong(x_cen,y_cen)"
   ]
  },
  {
   "cell_type": "code",
   "execution_count": 140,
   "metadata": {
    "collapsed": true
   },
   "outputs": [],
   "source": [
    "m = Basemap(resolution='i',projection='tmerc',width=r_width,height=r_height,lat_0=lat_cen,lon_0=lon_cen)"
   ]
  },
  {
   "cell_type": "code",
   "execution_count": 141,
   "metadata": {
    "collapsed": false
   },
   "outputs": [],
   "source": [
    "#p_red=df1[(df1.Long < r) & (df1.Long > l) & (df1.Lat > d) & (df1.Lat < u)]\n",
    "p_red=df1[(df1.x < maxx) & (df1.x > minx) & (df1.y > miny) & (df1.y < maxy)]\n",
    "x=p_red.Long.tolist();y=p_red.Lat.tolist();z=p_red.ch_sum.tolist()\n",
    "#x=p_red.x.tolist();y=p_red.y.tolist();z=p_red.ch_sum.tolist()\n",
    "xp,yp=m(x,y)"
   ]
  },
  {
   "cell_type": "code",
   "execution_count": 142,
   "metadata": {
    "collapsed": true
   },
   "outputs": [],
   "source": [
    "c = mcolors.ColorConverter().to_rgb\n",
    "rvb = make_colormap(\n",
    "    [c('blue'), c('green'), 0.11, c('green'),c('yellow'),0.30,c('yellow'), c('red'),0.90,c('red')])\n",
    "\n",
    "rvb2 = make_colormap([c('blue'),0.2,c('blue'),c('green'),0.4,c('green'),c('yellow'),0.6,c('yellow'),c('red'),0.8,c('red')])"
   ]
  },
  {
   "cell_type": "code",
   "execution_count": 107,
   "metadata": {
    "collapsed": false
   },
   "outputs": [
    {
     "data": {
      "text/plain": [
       "'/home/martin/nevada/Data/Nevada/Area3_image_utm11.tif'"
      ]
     },
     "execution_count": 107,
     "metadata": {},
     "output_type": "execute_result"
    }
   ],
   "source": [
    "geofile"
   ]
  },
  {
   "cell_type": "code",
   "execution_count": 143,
   "metadata": {
    "collapsed": true
   },
   "outputs": [],
   "source": [
    "#area=mpimg.imread(\"%s_latlon.tif\" % geofile[0:-4])\n",
    "area=mpimg.imread(geofile)\n",
    "m.imshow(area,origin='upper', extent=[minx,maxx,miny,maxy])\n",
    "m.scatter(xp, yp,s=40,c=z,edgecolor='none',cmap=rvb) \n",
    "#m.drawmapscale(lon=l+(r-l)/6,lat=d+(u-d)/15,lat0=0,lon0=0,length=dist,units='m',barstyle='fancy')\n",
    "cb=m.colorbar(size='3%')\n",
    "ax=cb.ax\n",
    "ax.text(0,1.02,'Total counts',size=14)\n",
    "\n",
    "plt.show()\n"
   ]
  },
  {
   "cell_type": "code",
   "execution_count": 137,
   "metadata": {
    "collapsed": false
   },
   "outputs": [
    {
     "data": {
      "text/plain": [
       "(3480, 2177)"
      ]
     },
     "execution_count": 137,
     "metadata": {},
     "output_type": "execute_result"
    }
   ],
   "source": [
    "r_width, r_height"
   ]
  },
  {
   "cell_type": "code",
   "execution_count": 144,
   "metadata": {
    "collapsed": false
   },
   "outputs": [
    {
     "data": {
      "text/plain": [
       "583745.4768506744"
      ]
     },
     "execution_count": 144,
     "metadata": {},
     "output_type": "execute_result"
    }
   ],
   "source": [
    "minx"
   ]
  },
  {
   "cell_type": "code",
   "execution_count": 145,
   "metadata": {
    "collapsed": false
   },
   "outputs": [
    {
     "data": {
      "text/plain": [
       "589637.575221637"
      ]
     },
     "execution_count": 145,
     "metadata": {},
     "output_type": "execute_result"
    }
   ],
   "source": [
    "maxx"
   ]
  },
  {
   "cell_type": "code",
   "execution_count": 146,
   "metadata": {
    "collapsed": false
   },
   "outputs": [
    {
     "data": {
      "text/plain": [
       "(4098093.050156291, 4101778.9979015742)"
      ]
     },
     "execution_count": 146,
     "metadata": {},
     "output_type": "execute_result"
    }
   ],
   "source": [
    "miny,maxy"
   ]
  },
  {
   "cell_type": "code",
   "execution_count": 152,
   "metadata": {
    "collapsed": false
   },
   "outputs": [
    {
     "data": {
      "text/plain": [
       "-116.00939890000001"
      ]
     },
     "execution_count": 152,
     "metadata": {},
     "output_type": "execute_result"
    }
   ],
   "source": [
    "max(x)"
   ]
  },
  {
   "cell_type": "code",
   "execution_count": 148,
   "metadata": {
    "collapsed": false
   },
   "outputs": [
    {
     "data": {
      "text/plain": [
       "903.7396997007401"
      ]
     },
     "execution_count": 148,
     "metadata": {},
     "output_type": "execute_result"
    }
   ],
   "source": [
    "max(xp)"
   ]
  },
  {
   "cell_type": "code",
   "execution_count": 153,
   "metadata": {
    "collapsed": false
   },
   "outputs": [
    {
     "data": {
      "text/plain": [
       "-116.02515587213726"
      ]
     },
     "execution_count": 153,
     "metadata": {},
     "output_type": "execute_result"
    }
   ],
   "source": [
    "lon_cen"
   ]
  },
  {
   "cell_type": "code",
   "execution_count": 155,
   "metadata": {
    "collapsed": false
   },
   "outputs": [
    {
     "data": {
      "text/plain": [
       "37.04181432471869"
      ]
     },
     "execution_count": 155,
     "metadata": {},
     "output_type": "execute_result"
    }
   ],
   "source": [
    "lat_cen"
   ]
  },
  {
   "cell_type": "code",
   "execution_count": 156,
   "metadata": {
    "collapsed": true
   },
   "outputs": [],
   "source": [
    "r,u =proj_latlong(maxx,maxy)\n",
    "l,d =proj_latlong(minx,miny)\n",
    "#cx,cy= proj_latlong(minx+width/2.,miny+height/2.)"
   ]
  },
  {
   "cell_type": "code",
   "execution_count": 157,
   "metadata": {
    "collapsed": false
   },
   "outputs": [
    {
     "data": {
      "text/plain": [
       "(-116.03880184558874, 37.035124807547994)"
      ]
     },
     "execution_count": 157,
     "metadata": {},
     "output_type": "execute_result"
    }
   ],
   "source": [
    "cx,cy"
   ]
  },
  {
   "cell_type": "code",
   "execution_count": 205,
   "metadata": {
    "collapsed": false
   },
   "outputs": [],
   "source": [
    "#m = Basemap(llcrnrlon=l,llcrnrlat=d,urcrnrlon=r,urcrnrlat=u,resolution='i',\n",
    " #           projection='tmerc',width=r_width,height=r_height,lat_0=0,lon_0=-116)\n",
    "m = Basemap(llcrnrx=minx,llcrnry=miny,urcrnrx=maxx,urcrnry=maxy,resolution='i',\n",
    "           projection='tmerc',width=maxx-minx,height=maxy-miny,lat_0=lat_cen,lon_0=lon_cen)   "
   ]
  },
  {
   "cell_type": "code",
   "execution_count": 199,
   "metadata": {
    "collapsed": false
   },
   "outputs": [
    {
     "data": {
      "text/plain": [
       "(583745.4768506744, 589637.575221637, 4098093.050156291, 4101778.9979015742)"
      ]
     },
     "execution_count": 199,
     "metadata": {},
     "output_type": "execute_result"
    }
   ],
   "source": [
    "minx, maxx, miny,maxy"
   ]
  },
  {
   "cell_type": "code",
   "execution_count": 203,
   "metadata": {
    "collapsed": false
   },
   "outputs": [
    {
     "data": {
      "text/plain": [
       "(3480, 2177)"
      ]
     },
     "execution_count": 203,
     "metadata": {},
     "output_type": "execute_result"
    }
   ],
   "source": [
    "r_width,r_height"
   ]
  },
  {
   "cell_type": "code",
   "execution_count": 204,
   "metadata": {
    "collapsed": false
   },
   "outputs": [
    {
     "data": {
      "text/plain": [
       "5892.09837096266"
      ]
     },
     "execution_count": 204,
     "metadata": {},
     "output_type": "execute_result"
    }
   ],
   "source": [
    "maxx-minx"
   ]
  },
  {
   "cell_type": "code",
   "execution_count": 206,
   "metadata": {
    "collapsed": true
   },
   "outputs": [],
   "source": [
    "p_red=df1[(df1.x < maxx) & (df1.x > minx) & (df1.y > miny) & (df1.y < maxy)]\n",
    "x=p_red.Long.tolist();y=p_red.Lat.tolist();z=p_red.ch_sum.tolist()\n",
    "#x=p_red.x.tolist();y=p_red.y.tolist();z=p_red.ch_sum.tolist()\n",
    "xp,yp=m(x,y)"
   ]
  },
  {
   "cell_type": "code",
   "execution_count": null,
   "metadata": {
    "collapsed": false
   },
   "outputs": [],
   "source": [
    "\n"
   ]
  },
  {
   "cell_type": "code",
   "execution_count": 207,
   "metadata": {
    "collapsed": true
   },
   "outputs": [],
   "source": [
    "#area=mpimg.imread(\"%s_latlon.tif\" % geofile[0:-4])\n",
    "area=mpimg.imread(geofile)\n",
    "m.imshow(area,origin='upper', extent=[minx,maxx,miny,maxy])\n",
    "m.scatter(xp, yp,s=40,c=z,edgecolor='none',cmap=rvb) \n",
    "#m.drawmapscale(lon=l+(r-l)/6,lat=d+(u-d)/15,lat0=0,lon0=0,length=dist,units='m',barstyle='fancy')\n",
    "cb=m.colorbar(size='3%')\n",
    "ax=cb.ax\n",
    "ax.text(0,1.02,'Total counts',size=14)\n",
    "\n",
    "plt.show()"
   ]
  },
  {
   "cell_type": "code",
   "execution_count": 166,
   "metadata": {
    "collapsed": false
   },
   "outputs": [
    {
     "data": {
      "text/plain": [
       "(37.04181432471869, -116.02515587213726)"
      ]
     },
     "execution_count": 166,
     "metadata": {},
     "output_type": "execute_result"
    }
   ],
   "source": [
    "lat_cen, lon_cen"
   ]
  },
  {
   "cell_type": "code",
   "execution_count": null,
   "metadata": {
    "collapsed": true
   },
   "outputs": [],
   "source": []
  }
 ],
 "metadata": {
  "kernelspec": {
   "display_name": "Python 2",
   "language": "python",
   "name": "python2"
  },
  "language_info": {
   "codemirror_mode": {
    "name": "ipython",
    "version": 2
   },
   "file_extension": ".py",
   "mimetype": "text/x-python",
   "name": "python",
   "nbconvert_exporter": "python",
   "pygments_lexer": "ipython2",
   "version": "2.7.6"
  }
 },
 "nbformat": 4,
 "nbformat_minor": 0
}
